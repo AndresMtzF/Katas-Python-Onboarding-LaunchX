{
 "cells": [
  {
   "cell_type": "markdown",
   "metadata": {},
   "source": [
    "# Ejercicio - Escribir declaraciones if, else y elif"
   ]
  },
  {
   "cell_type": "code",
   "execution_count": null,
   "metadata": {},
   "outputs": [],
   "source": [
    "#Advertencia Asteroide acercandose\n",
    "\n",
    "velocidadAsteroide = 49\n",
    "\n",
    "if velocidadAsteroide > 25:\n",
    "    print(\"¡Alerta! Se acerca un asteroide\")\n",
    "else:\n",
    "    print(\"Asteroide no representa amenaza\")"
   ]
  },
  {
   "cell_type": "code",
   "execution_count": 1,
   "metadata": {},
   "outputs": [
    {
     "name": "stdout",
     "output_type": "stream",
     "text": [
      "No existe amenazas\n"
     ]
    }
   ],
   "source": [
    "#Advertencia, avistamiento de asteroide\n",
    "\n",
    "velocidadAsteroide = 19\n",
    "\n",
    "if velocidadAsteroide == 20:\n",
    "    print(\"¡Cuidado, Alerta de Asteriode! Observa el cielo\")\n",
    "elif velocidadAsteroide > 20:\n",
    "    print(\"¡Cuidado, Alerta de Asteriode! Observa el cielo\")\n",
    "else: \n",
    "    print(\"No existe amenazas\")"
   ]
  },
  {
   "cell_type": "code",
   "execution_count": 3,
   "metadata": {},
   "outputs": [
    {
     "name": "stdout",
     "output_type": "stream",
     "text": [
      "Alerta de Asteroides\n",
      "Avistamiento de Asteroide en la Tierra\n"
     ]
    }
   ],
   "source": [
    "print(\"Alerta de Asteroides\")\n",
    "velocidadAsteroide =int(input(\"Velocidad del Asteroide: \")) \n",
    "tamanioAsteroide = int(input(\"Tamaño del Asteriode: \"))\n",
    "\n",
    "if tamanioAsteroide > 25 and velocidadAsteroide > 25:\n",
    "    print(\"¡Alerta, peligro de acercamiento de Asteroide a la tierra\")\n",
    "elif velocidadAsteroide >=20:\n",
    "    print(\"Avistamiento de Asteroide en la Tierra\")    \n",
    "else: print (\"No existe amenazas de asteroides\")"
   ]
  }
 ],
 "metadata": {
  "interpreter": {
   "hash": "35c4bcfff6bb594ff47b51ce5b21bcb1093d06fa0c5debe7002e3be5d50f4cc1"
  },
  "kernelspec": {
   "display_name": "Python 3.10.2 64-bit",
   "language": "python",
   "name": "python3"
  },
  "language_info": {
   "codemirror_mode": {
    "name": "ipython",
    "version": 3
   },
   "file_extension": ".py",
   "mimetype": "text/x-python",
   "name": "python",
   "nbconvert_exporter": "python",
   "pygments_lexer": "ipython3",
   "version": "3.10.2"
  },
  "orig_nbformat": 4
 },
 "nbformat": 4,
 "nbformat_minor": 2
}
